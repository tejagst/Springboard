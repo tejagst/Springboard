{
 "cells": [
  {
   "cell_type": "markdown",
   "metadata": {},
   "source": [
    "# XML example and exercise\n",
    "****\n",
    "+ study examples of accessing nodes in XML tree structure  \n",
    "+ work on exercise to be completed and submitted\n",
    "****\n",
    "+ reference: https://docs.python.org/2.7/library/xml.etree.elementtree.html\n",
    "+ data source: http://www.dbis.informatik.uni-goettingen.de/Mondial\n",
    "****"
   ]
  },
  {
   "cell_type": "code",
   "execution_count": 1,
   "metadata": {
    "collapsed": true
   },
   "outputs": [],
   "source": [
    "from xml.etree import ElementTree as ET\n",
    "import pandas as pd"
   ]
  },
  {
   "cell_type": "markdown",
   "metadata": {},
   "source": [
    "## XML example\n",
    "\n",
    "+ for details about tree traversal and iterators, see https://docs.python.org/2.7/library/xml.etree.elementtree.html"
   ]
  },
  {
   "cell_type": "code",
   "execution_count": 205,
   "metadata": {
    "collapsed": false
   },
   "outputs": [],
   "source": [
    "document_tree = ET.parse( 'mondial_database_less.xml' )"
   ]
  },
  {
   "cell_type": "code",
   "execution_count": 207,
   "metadata": {
    "collapsed": false
   },
   "outputs": [
    {
     "name": "stdout",
     "output_type": "stream",
     "text": [
      "Albania\n",
      "Greece\n",
      "Macedonia\n",
      "Serbia\n",
      "Montenegro\n",
      "Kosovo\n",
      "Andorra\n"
     ]
    }
   ],
   "source": [
    "# print names of all countries\n",
    "for child in document_tree.getroot():\n",
    "    print(child.find('name').text)"
   ]
  },
  {
   "cell_type": "code",
   "execution_count": 5,
   "metadata": {
    "collapsed": false
   },
   "outputs": [
    {
     "name": "stdout",
     "output_type": "stream",
     "text": [
      "* Albania: Tirana, Shkodër, Durrës, Vlorë, Elbasan, Korçë\n",
      "* Greece: Komotini, Kavala, Athina, Peiraias, Peristeri, Acharnes, Patra, Kozani, Kerkyra, Ioannina, Thessaloniki, Iraklio, Chania, Ermoupoli, Rhodes, Tripoli, Lamia, Chalkida, Larissa, Volos, Mytilini, Karyes\n",
      "* Macedonia: Skopje, Kumanovo\n",
      "* Serbia: Beograd, Novi Sad, Niš\n",
      "* Montenegro: Podgorica\n",
      "* Kosovo: Prishtine\n",
      "* Andorra: Andorra la Vella\n"
     ]
    }
   ],
   "source": [
    "# print names of all countries and their cities\n",
    "for element in document_tree.iterfind('country'):\n",
    "    print '* ' + element.find('name').text + ':',\n",
    "    capitals_string = ''\n",
    "    for subelement in element.getiterator('city'):\n",
    "        capitals_string += subelement.find('name').text + ', '\n",
    "    print capitals_string[:-2]"
   ]
  },
  {
   "cell_type": "markdown",
   "metadata": {},
   "source": [
    "****\n",
    "## XML exercise\n",
    "\n",
    "Using data in 'data/mondial_database.xml', the examples above, and refering to https://docs.python.org/2.7/library/xml.etree.elementtree.html, find\n",
    "\n",
    "1. 10 countries with the lowest infant mortality rates\n",
    "2. 10 cities with the largest population\n",
    "3. 10 ethnic groups with the largest overall populations (sum of best/latest estimates over all countries)\n",
    "4. name and country of a) longest river, b) largest lake and c) airport at highest elevation"
   ]
  },
  {
   "cell_type": "code",
   "execution_count": 2,
   "metadata": {
    "collapsed": true
   },
   "outputs": [],
   "source": [
    "import os\n",
    "os.chdir(r\"C:\\\\Users\\Siva Teja\\Desktop\\Springboard\\data_wrangling_xml\\data_wrangling_xml\\data\")"
   ]
  },
  {
   "cell_type": "code",
   "execution_count": 3,
   "metadata": {
    "collapsed": false
   },
   "outputs": [],
   "source": [
    "document = ET.parse('mondial_database.xml' )"
   ]
  },
  {
   "cell_type": "code",
   "execution_count": 4,
   "metadata": {
    "collapsed": false
   },
   "outputs": [
    {
     "data": {
      "text/plain": [
       "['Albania',\n",
       " 'Greece',\n",
       " 'Macedonia',\n",
       " 'Serbia',\n",
       " 'Montenegro',\n",
       " 'Kosovo',\n",
       " 'Andorra',\n",
       " 'France',\n",
       " 'Spain',\n",
       " 'Austria']"
      ]
     },
     "execution_count": 4,
     "metadata": {},
     "output_type": "execute_result"
    }
   ],
   "source": [
    "countries = []\n",
    "for child in document.getroot():\n",
    "    countries.append(child.find('name').text)\n",
    "\n",
    "countries[:10]"
   ]
  },
  {
   "cell_type": "markdown",
   "metadata": {},
   "source": [
    "####  1. 10 countries with the lowest infant mortality rates"
   ]
  },
  {
   "cell_type": "code",
   "execution_count": 5,
   "metadata": {
    "collapsed": false
   },
   "outputs": [
    {
     "name": "stdout",
     "output_type": "stream",
     "text": [
      "* Albania:\n",
      "13.19\n",
      "* Greece:\n",
      "4.78\n",
      "* Macedonia:\n",
      "7.9\n",
      "* Serbia:\n",
      "6.16\n",
      "* Montenegro:\n",
      "* Kosovo:\n",
      "* Andorra:\n",
      "3.69\n",
      "* France:\n",
      "3.31\n",
      "* Spain:\n",
      "3.33\n",
      "* Austria:\n",
      "4.16\n",
      "* Czech Republic:\n",
      "2.63\n",
      "* Germany:\n",
      "3.46\n",
      "* Hungary:\n",
      "5.09\n",
      "* Italy:\n",
      "3.31\n",
      "* Liechtenstein:\n",
      "4.33\n",
      "* Slovakia:\n",
      "5.35\n",
      "* Slovenia:\n",
      "4.04\n",
      "* Switzerland:\n",
      "3.73\n",
      "* Belarus:\n",
      "3.64\n",
      "* Latvia:\n",
      "7.91\n",
      "* Lithuania:\n",
      "6\n",
      "* Poland:\n",
      "6.19\n",
      "* Ukraine:\n",
      "8.1\n",
      "* Russia:\n",
      "7.08\n",
      "* Belgium:\n",
      "4.18\n",
      "* Luxembourg:\n",
      "4.28\n",
      "* Netherlands:\n",
      "3.66\n",
      "* Bosnia and Herzegovina:\n",
      "5.84\n",
      "* Croatia:\n",
      "5.87\n",
      "* Bulgaria:\n",
      "15.08\n",
      "* Romania:\n",
      "10.16\n",
      "* Turkey:\n",
      "21.43\n",
      "* Denmark:\n",
      "4.1\n",
      "* Estonia:\n",
      "6.7\n",
      "* Faroe Islands:\n",
      "5.71\n",
      "* Finland:\n",
      "3.36\n",
      "* Norway:\n",
      "2.48\n",
      "* Sweden:\n",
      "2.6\n",
      "* Monaco:\n",
      "1.81\n",
      "* Gibraltar:\n",
      "6.29\n",
      "* Guernsey:\n",
      "3.47\n",
      "* Holy See:\n",
      "* Ceuta:\n",
      "* Melilla:\n",
      "* Iceland:\n",
      "3.15\n",
      "* Ireland:\n",
      "3.74\n",
      "* San Marino:\n",
      "4.52\n",
      "* Jersey:\n",
      "3.86\n",
      "* Malta:\n",
      "3.59\n",
      "* Isle of Man:\n",
      "4.17\n",
      "* Moldova:\n",
      "12.93\n",
      "* Portugal:\n",
      "4.48\n",
      "* Svalbard:\n",
      "* United Kingdom:\n",
      "4.44\n",
      "* Afghanistan:\n",
      "117.23\n",
      "* China:\n",
      "14.79\n",
      "* Iran:\n",
      "39\n",
      "* Pakistan:\n",
      "57.48\n",
      "* Tajikistan:\n",
      "35.03\n",
      "* Turkmenistan:\n",
      "38.13\n",
      "* Uzbekistan:\n",
      "19.84\n",
      "* Armenia:\n",
      "13.97\n",
      "* Georgia:\n",
      "16.68\n",
      "* Azerbaijan:\n",
      "26.67\n",
      "* Bahrain:\n",
      "9.68\n",
      "* Bangladesh:\n",
      "45.67\n",
      "* Myanmar:\n",
      "44.91\n",
      "* India:\n",
      "43.19\n",
      "* Bhutan:\n",
      "37.89\n",
      "* Brunei:\n",
      "10.48\n",
      "* Malaysia:\n",
      "13.69\n",
      "* Laos:\n",
      "54.53\n",
      "* Thailand:\n",
      "9.86\n",
      "* Cambodia:\n",
      "51.36\n",
      "* Vietnam:\n",
      "18.99\n",
      "* Kazakhstan:\n",
      "21.61\n",
      "* North Korea:\n",
      "24.5\n",
      "* Kyrgyzstan:\n",
      "28.71\n",
      "* Hong Kong:\n",
      "2.73\n",
      "* Macao:\n",
      "3.13\n",
      "* Mongolia:\n",
      "23.15\n",
      "* Nepal:\n",
      "40.43\n",
      "* Christmas Island:\n",
      "* Cocos Islands:\n",
      "* Cyprus:\n",
      "8.54\n",
      "* Gaza Strip:\n",
      "30.6\n",
      "* Israel:\n",
      "3.98\n",
      "* Egypt:\n",
      "22.41\n",
      "* Indonesia:\n",
      "25.16\n",
      "* Timor-Leste:\n",
      "38.79\n",
      "* Papua New Guinea:\n",
      "39.67\n",
      "* Iraq:\n",
      "37.53\n",
      "* Jordan:\n",
      "15.73\n",
      "* Kuwait:\n",
      "7.51\n",
      "* Saudi Arabia:\n",
      "14.58\n",
      "* Syria:\n",
      "15.79\n",
      "* Lebanon:\n",
      "7.98\n",
      "* West Bank:\n",
      "28.6\n",
      "* Japan:\n",
      "2.13\n",
      "* South Korea:\n",
      "3.93\n",
      "* Maldives:\n",
      "24.59\n",
      "* Oman:\n",
      "14\n",
      "* United Arab Emirates:\n",
      "10.92\n",
      "* Yemen:\n",
      "50.41\n",
      "* Philippines:\n",
      "17.64\n",
      "* Qatar:\n",
      "6.42\n",
      "* Singapore:\n",
      "2.53\n",
      "* Sri Lanka:\n",
      "9.02\n",
      "* Taiwan:\n",
      "4.49\n",
      "* Anguilla:\n",
      "3.4\n",
      "* Antigua and Barbuda:\n",
      "13.29\n",
      "* Aruba:\n",
      "11.74\n",
      "* Bahamas:\n",
      "12.5\n",
      "* Barbados:\n",
      "10.93\n",
      "* Belize:\n",
      "20.31\n",
      "* Guatemala:\n",
      "23.51\n",
      "* Mexico:\n",
      "12.58\n",
      "* Bermuda:\n",
      "2.48\n",
      "* British Virgin Islands:\n",
      "13.45\n",
      "* Canada:\n",
      "4.71\n",
      "* United States:\n",
      "6.17\n",
      "* Cayman Islands:\n",
      "6.21\n",
      "* Costa Rica:\n",
      "8.7\n",
      "* Nicaragua:\n",
      "20.36\n",
      "* Panama:\n",
      "10.7\n",
      "* Cuba:\n",
      "4.7\n",
      "* Dominica:\n",
      "11.61\n",
      "* Dominican Republic:\n",
      "19.63\n",
      "* Haiti:\n",
      "49.43\n",
      "* El Salvador:\n",
      "18.44\n",
      "* Honduras:\n",
      "18.72\n",
      "* Greenland:\n",
      "9.42\n",
      "* Grenada:\n",
      "10.5\n",
      "* Guadeloupe:\n",
      "8.3\n",
      "* Jamaica:\n",
      "13.69\n",
      "* Martinique:\n",
      "7.1\n",
      "* Montserrat:\n",
      "13.66\n",
      "* Curacao:\n",
      "* Sint Maarten:\n",
      "9.05\n",
      "* Saint Martin:\n",
      "* Saint Barthelemy:\n",
      "* Colombia:\n",
      "15.02\n",
      "* Puerto Rico:\n",
      "7.73\n",
      "* Saint Kitts and Nevis:\n",
      "8.98\n",
      "* Saint Lucia:\n",
      "11.75\n",
      "* Saint Pierre and Miquelon:\n",
      "6.95\n",
      "* Saint Vincent and the Grenadines:\n",
      "13.07\n",
      "* Trinidad and Tobago:\n",
      "24.82\n",
      "* Turks and Caicos Islands:\n",
      "10.97\n",
      "* Virgin Islands:\n",
      "6.79\n",
      "* American Samoa:\n",
      "8.92\n",
      "* Australia:\n",
      "4.43\n",
      "* Cook Islands:\n",
      "14.33\n",
      "* Fiji:\n",
      "10.2\n",
      "* French Polynesia:\n",
      "4.78\n",
      "* Guam:\n",
      "5.51\n",
      "* Kiribati:\n",
      "35.37\n",
      "* Marshall Islands:\n",
      "21.39\n",
      "* Micronesia:\n",
      "21.93\n",
      "* Nauru:\n",
      "8.21\n",
      "* New Caledonia:\n",
      "5.46\n",
      "* New Zealand:\n",
      "4.59\n",
      "* Niue:\n",
      "* Norfolk Island:\n",
      "* Northern Mariana Islands:\n",
      "5.5\n",
      "* Palau:\n",
      "11.46\n",
      "* Pitcairn:\n",
      "* Solomon Islands:\n",
      "16.17\n",
      "* Tonga:\n",
      "12.36\n",
      "* Tuvalu:\n",
      "31.69\n",
      "* Tokelau:\n",
      "* Vanuatu:\n",
      "16.41\n",
      "* Wallis and Futuna:\n",
      "4.49\n",
      "* Samoa:\n",
      "20.5\n",
      "* Argentina:\n",
      "9.96\n",
      "* Bolivia:\n",
      "38.61\n",
      "* Brazil:\n",
      "19.21\n",
      "* Chile:\n",
      "7.02\n",
      "* Paraguay:\n",
      "20.75\n",
      "* Uruguay:\n",
      "8.97\n",
      "* Peru:\n",
      "20.21\n",
      "* French Guiana:\n",
      "14.6\n",
      "* Guyana:\n",
      "33.56\n",
      "* Suriname:\n",
      "27.07\n",
      "* Venezuela:\n",
      "19.33\n",
      "* Ecuador:\n",
      "17.93\n",
      "* Falkland Islands:\n",
      "* Algeria:\n",
      "21.76\n",
      "* Libya:\n",
      "11.87\n",
      "* Mali:\n",
      "104.34\n",
      "* Mauritania:\n",
      "56.06\n",
      "* Morocco:\n",
      "24.52\n",
      "* Niger:\n",
      "86.27\n",
      "* Tunisia:\n",
      "23.19\n",
      "* Western Sahara:\n",
      "145.82\n",
      "* Angola:\n",
      "79.99\n",
      "* Congo:\n",
      "59.34\n",
      "* Namibia:\n",
      "45.64\n",
      "* Zaire:\n",
      "73.15\n",
      "* Zambia:\n",
      "66.62\n",
      "* Benin:\n",
      "57.09\n",
      "* Burkina Faso:\n",
      "76.8\n",
      "* Nigeria:\n",
      "74.09\n",
      "* Togo:\n",
      "46.73\n",
      "* Botswana:\n",
      "9.38\n",
      "* South Africa:\n",
      "41.61\n",
      "* Zimbabwe:\n",
      "26.55\n",
      "* Cote dIvoire:\n",
      "60.16\n",
      "* Ghana:\n",
      "38.52\n",
      "* Burundi:\n",
      "63.44\n",
      "* Rwanda:\n",
      "59.59\n",
      "* Tanzania:\n",
      "43.74\n",
      "* Cameroon:\n",
      "55.1\n",
      "* Central African Republic:\n",
      "92.86\n",
      "* Chad:\n",
      "90.3\n",
      "* Equatorial Guinea:\n",
      "71.12\n",
      "* Gabon:\n",
      "47.03\n",
      "* Cape Verde:\n",
      "24.28\n",
      "* Sudan:\n",
      "52.86\n",
      "* South Sudan:\n",
      "68.16\n",
      "* Comoros:\n",
      "65.31\n",
      "* Guinea:\n",
      "55.24\n",
      "* Liberia:\n",
      "69.19\n",
      "* Djibouti:\n",
      "50.2\n",
      "* Eritrea:\n",
      "38.44\n",
      "* Ethiopia:\n",
      "55.77\n",
      "* Somalia:\n",
      "100.14\n",
      "* Kenya:\n",
      "40.71\n",
      "* Gambia:\n",
      "65.74\n",
      "* Senegal:\n",
      "52.72\n",
      "* Guinea-Bissau:\n",
      "90.92\n",
      "* Sierra Leone:\n",
      "73.29\n",
      "* Uganda:\n",
      "60.82\n",
      "* Lesotho:\n",
      "50.48\n",
      "* Madagascar:\n",
      "44.88\n",
      "* Malawi:\n",
      "48.01\n",
      "* Mozambique:\n",
      "72.42\n",
      "* Mauritius:\n",
      "10.59\n",
      "* Mayotte:\n",
      "56.29\n",
      "* Swaziland:\n",
      "54.82\n",
      "* Reunion:\n",
      "7.5\n",
      "* Saint Helena:\n",
      "17.63\n",
      "* Sao Tome and Principe:\n",
      "49.16\n",
      "* Seychelles:\n",
      "10.77\n"
     ]
    }
   ],
   "source": [
    "# Trial for extracting country names and infant mortalities.\n",
    "\n",
    "for element in document.iterfind('country'):\n",
    "    print('* ' + element.find('name').text + ':')\n",
    "    for subelement in element.getiterator('infant_mortality'):\n",
    "        print(subelement.text)"
   ]
  },
  {
   "cell_type": "code",
   "execution_count": 6,
   "metadata": {
    "collapsed": false
   },
   "outputs": [],
   "source": [
    "# Create an empty list infant_mortality. Append all the lists [country_name, infant_mortality].\n",
    "infant_mortality = []\n",
    "for element in document.iterfind('country'):\n",
    "    for subelement in element.getiterator('infant_mortality'):\n",
    "        infant_mortality.append([element.find('name').text, float(subelement.text)]) # Convert the infant_mortality to float."
   ]
  },
  {
   "cell_type": "code",
   "execution_count": 7,
   "metadata": {
    "collapsed": false
   },
   "outputs": [],
   "source": [
    "# Create a pandas dataframe with infant_mortality as data.\n",
    "infant_mortality_df = pd.DataFrame(infant_mortality, columns= ('country', 'infant mortality'))"
   ]
  },
  {
   "cell_type": "code",
   "execution_count": 8,
   "metadata": {
    "collapsed": false
   },
   "outputs": [
    {
     "name": "stderr",
     "output_type": "stream",
     "text": [
      "C:\\Users\\Siva Teja\\Anaconda3\\lib\\site-packages\\ipykernel\\__main__.py:2: FutureWarning: sort(columns=....) is deprecated, use sort_values(by=.....)\n",
      "  from ipykernel import kernelapp as app\n"
     ]
    },
    {
     "data": {
      "text/html": [
       "<div>\n",
       "<table border=\"1\" class=\"dataframe\">\n",
       "  <thead>\n",
       "    <tr style=\"text-align: right;\">\n",
       "      <th></th>\n",
       "      <th>country</th>\n",
       "      <th>infant mortality</th>\n",
       "    </tr>\n",
       "  </thead>\n",
       "  <tbody>\n",
       "    <tr>\n",
       "      <th>36</th>\n",
       "      <td>Monaco</td>\n",
       "      <td>1.81</td>\n",
       "    </tr>\n",
       "    <tr>\n",
       "      <th>90</th>\n",
       "      <td>Japan</td>\n",
       "      <td>2.13</td>\n",
       "    </tr>\n",
       "    <tr>\n",
       "      <th>109</th>\n",
       "      <td>Bermuda</td>\n",
       "      <td>2.48</td>\n",
       "    </tr>\n",
       "    <tr>\n",
       "      <th>34</th>\n",
       "      <td>Norway</td>\n",
       "      <td>2.48</td>\n",
       "    </tr>\n",
       "    <tr>\n",
       "      <th>98</th>\n",
       "      <td>Singapore</td>\n",
       "      <td>2.53</td>\n",
       "    </tr>\n",
       "    <tr>\n",
       "      <th>35</th>\n",
       "      <td>Sweden</td>\n",
       "      <td>2.60</td>\n",
       "    </tr>\n",
       "    <tr>\n",
       "      <th>8</th>\n",
       "      <td>Czech Republic</td>\n",
       "      <td>2.63</td>\n",
       "    </tr>\n",
       "    <tr>\n",
       "      <th>72</th>\n",
       "      <td>Hong Kong</td>\n",
       "      <td>2.73</td>\n",
       "    </tr>\n",
       "    <tr>\n",
       "      <th>73</th>\n",
       "      <td>Macao</td>\n",
       "      <td>3.13</td>\n",
       "    </tr>\n",
       "    <tr>\n",
       "      <th>39</th>\n",
       "      <td>Iceland</td>\n",
       "      <td>3.15</td>\n",
       "    </tr>\n",
       "  </tbody>\n",
       "</table>\n",
       "</div>"
      ],
      "text/plain": [
       "            country  infant mortality\n",
       "36           Monaco              1.81\n",
       "90            Japan              2.13\n",
       "109         Bermuda              2.48\n",
       "34           Norway              2.48\n",
       "98        Singapore              2.53\n",
       "35           Sweden              2.60\n",
       "8    Czech Republic              2.63\n",
       "72        Hong Kong              2.73\n",
       "73            Macao              3.13\n",
       "39          Iceland              3.15"
      ]
     },
     "execution_count": 8,
     "metadata": {},
     "output_type": "execute_result"
    }
   ],
   "source": [
    "# Finding the top 10 lowest infant mortalities.\n",
    "infant_mortality_df.sort(columns = ('infant mortality'),ascending = True).head(10)"
   ]
  },
  {
   "cell_type": "markdown",
   "metadata": {},
   "source": [
    "####  2. 10 cities with the largest population"
   ]
  },
  {
   "cell_type": "code",
   "execution_count": 9,
   "metadata": {
    "collapsed": false
   },
   "outputs": [],
   "source": [
    "# Create a list called city_pop with contents: country_name, city_name, population_attributes, actual population.\n",
    "city_pop = []\n",
    "\n",
    "for country in document.iter('country'):\n",
    "    for city in country.iter('city'):\n",
    "        for population in city.iter('population'):\n",
    "            city_pop.append([country.find('name').text, city.find('name').text, population.attrib, int(population.text)])"
   ]
  },
  {
   "cell_type": "code",
   "execution_count": 10,
   "metadata": {
    "collapsed": false
   },
   "outputs": [],
   "source": [
    "# Create a dataframe with city_pop list as data\n",
    "\n",
    "city_pop_df = pd.DataFrame(city_pop, columns=('Country', 'City', 'Attrib', 'Population'))"
   ]
  },
  {
   "cell_type": "code",
   "execution_count": 11,
   "metadata": {
    "collapsed": false
   },
   "outputs": [
    {
     "data": {
      "text/html": [
       "<div>\n",
       "<table border=\"1\" class=\"dataframe\">\n",
       "  <thead>\n",
       "    <tr style=\"text-align: right;\">\n",
       "      <th></th>\n",
       "      <th>Country</th>\n",
       "      <th>City</th>\n",
       "      <th>Population</th>\n",
       "      <th>Year</th>\n",
       "    </tr>\n",
       "  </thead>\n",
       "  <tbody>\n",
       "    <tr>\n",
       "      <th>0</th>\n",
       "      <td>Albania</td>\n",
       "      <td>Tirana</td>\n",
       "      <td>192000</td>\n",
       "      <td>1987</td>\n",
       "    </tr>\n",
       "    <tr>\n",
       "      <th>1</th>\n",
       "      <td>Albania</td>\n",
       "      <td>Tirana</td>\n",
       "      <td>244153</td>\n",
       "      <td>1990</td>\n",
       "    </tr>\n",
       "    <tr>\n",
       "      <th>2</th>\n",
       "      <td>Albania</td>\n",
       "      <td>Tirana</td>\n",
       "      <td>418495</td>\n",
       "      <td>2011</td>\n",
       "    </tr>\n",
       "    <tr>\n",
       "      <th>3</th>\n",
       "      <td>Albania</td>\n",
       "      <td>Shkodër</td>\n",
       "      <td>62000</td>\n",
       "      <td>1987</td>\n",
       "    </tr>\n",
       "    <tr>\n",
       "      <th>4</th>\n",
       "      <td>Albania</td>\n",
       "      <td>Shkodër</td>\n",
       "      <td>77075</td>\n",
       "      <td>2011</td>\n",
       "    </tr>\n",
       "    <tr>\n",
       "      <th>5</th>\n",
       "      <td>Albania</td>\n",
       "      <td>Durrës</td>\n",
       "      <td>60000</td>\n",
       "      <td>1987</td>\n",
       "    </tr>\n",
       "    <tr>\n",
       "      <th>6</th>\n",
       "      <td>Albania</td>\n",
       "      <td>Durrës</td>\n",
       "      <td>113249</td>\n",
       "      <td>2011</td>\n",
       "    </tr>\n",
       "    <tr>\n",
       "      <th>7</th>\n",
       "      <td>Albania</td>\n",
       "      <td>Vlorë</td>\n",
       "      <td>56000</td>\n",
       "      <td>1987</td>\n",
       "    </tr>\n",
       "    <tr>\n",
       "      <th>8</th>\n",
       "      <td>Albania</td>\n",
       "      <td>Vlorë</td>\n",
       "      <td>79513</td>\n",
       "      <td>2011</td>\n",
       "    </tr>\n",
       "    <tr>\n",
       "      <th>9</th>\n",
       "      <td>Albania</td>\n",
       "      <td>Elbasan</td>\n",
       "      <td>53000</td>\n",
       "      <td>1987</td>\n",
       "    </tr>\n",
       "  </tbody>\n",
       "</table>\n",
       "</div>"
      ],
      "text/plain": [
       "   Country     City  Population  Year\n",
       "0  Albania   Tirana      192000  1987\n",
       "1  Albania   Tirana      244153  1990\n",
       "2  Albania   Tirana      418495  2011\n",
       "3  Albania  Shkodër       62000  1987\n",
       "4  Albania  Shkodër       77075  2011\n",
       "5  Albania   Durrës       60000  1987\n",
       "6  Albania   Durrës      113249  2011\n",
       "7  Albania    Vlorë       56000  1987\n",
       "8  Albania    Vlorë       79513  2011\n",
       "9  Albania  Elbasan       53000  1987"
      ]
     },
     "execution_count": 11,
     "metadata": {},
     "output_type": "execute_result"
    }
   ],
   "source": [
    "# Create a new column in the dataframe by extracting the year value from 'Attrib' column and drop the 'Attrib' column.\n",
    "city_pop_df['Year'] = [city_pop_df['Attrib'][i]['year'] for i in range(len(city_pop_df['Attrib']))]\n",
    "city_pop_df.drop('Attrib', axis = 1, inplace =True)\n",
    "city_pop_df.head(10)"
   ]
  },
  {
   "cell_type": "code",
   "execution_count": 12,
   "metadata": {
    "collapsed": false
   },
   "outputs": [
    {
     "name": "stderr",
     "output_type": "stream",
     "text": [
      "C:\\Users\\Siva Teja\\Anaconda3\\lib\\site-packages\\ipykernel\\__main__.py:4: FutureWarning: sort(columns=....) is deprecated, use sort_values(by=.....)\n"
     ]
    },
    {
     "data": {
      "text/html": [
       "<div>\n",
       "<table border=\"1\" class=\"dataframe\">\n",
       "  <thead>\n",
       "    <tr style=\"text-align: right;\">\n",
       "      <th></th>\n",
       "      <th>Country</th>\n",
       "      <th>City</th>\n",
       "      <th>Population</th>\n",
       "      <th>Year</th>\n",
       "    </tr>\n",
       "  </thead>\n",
       "  <tbody>\n",
       "    <tr>\n",
       "      <th>4303</th>\n",
       "      <td>India</td>\n",
       "      <td>Mumbai</td>\n",
       "      <td>12442373</td>\n",
       "      <td>2011</td>\n",
       "    </tr>\n",
       "    <tr>\n",
       "      <th>4399</th>\n",
       "      <td>India</td>\n",
       "      <td>Delhi</td>\n",
       "      <td>11034555</td>\n",
       "      <td>2011</td>\n",
       "    </tr>\n",
       "    <tr>\n",
       "      <th>4280</th>\n",
       "      <td>India</td>\n",
       "      <td>Bangalore</td>\n",
       "      <td>8443675</td>\n",
       "      <td>2011</td>\n",
       "    </tr>\n",
       "    <tr>\n",
       "      <th>3235</th>\n",
       "      <td>United Kingdom</td>\n",
       "      <td>London</td>\n",
       "      <td>8250205</td>\n",
       "      <td>2011</td>\n",
       "    </tr>\n",
       "    <tr>\n",
       "      <th>3944</th>\n",
       "      <td>Iran</td>\n",
       "      <td>Tehran</td>\n",
       "      <td>8154051</td>\n",
       "      <td>2011</td>\n",
       "    </tr>\n",
       "    <tr>\n",
       "      <th>4201</th>\n",
       "      <td>Bangladesh</td>\n",
       "      <td>Dhaka</td>\n",
       "      <td>7423137</td>\n",
       "      <td>2011</td>\n",
       "    </tr>\n",
       "    <tr>\n",
       "      <th>4414</th>\n",
       "      <td>India</td>\n",
       "      <td>Hyderabad</td>\n",
       "      <td>6731790</td>\n",
       "      <td>2011</td>\n",
       "    </tr>\n",
       "    <tr>\n",
       "      <th>4263</th>\n",
       "      <td>India</td>\n",
       "      <td>Ahmadabad</td>\n",
       "      <td>5577940</td>\n",
       "      <td>2011</td>\n",
       "    </tr>\n",
       "    <tr>\n",
       "      <th>8782</th>\n",
       "      <td>Angola</td>\n",
       "      <td>Luanda</td>\n",
       "      <td>5000000</td>\n",
       "      <td>2011</td>\n",
       "    </tr>\n",
       "    <tr>\n",
       "      <th>4353</th>\n",
       "      <td>India</td>\n",
       "      <td>Chennai</td>\n",
       "      <td>4646732</td>\n",
       "      <td>2011</td>\n",
       "    </tr>\n",
       "  </tbody>\n",
       "</table>\n",
       "</div>"
      ],
      "text/plain": [
       "             Country       City  Population  Year\n",
       "4303           India     Mumbai    12442373  2011\n",
       "4399           India      Delhi    11034555  2011\n",
       "4280           India  Bangalore     8443675  2011\n",
       "3235  United Kingdom     London     8250205  2011\n",
       "3944            Iran     Tehran     8154051  2011\n",
       "4201      Bangladesh      Dhaka     7423137  2011\n",
       "4414           India  Hyderabad     6731790  2011\n",
       "4263           India  Ahmadabad     5577940  2011\n",
       "8782          Angola     Luanda     5000000  2011\n",
       "4353           India    Chennai     4646732  2011"
      ]
     },
     "execution_count": 12,
     "metadata": {},
     "output_type": "execute_result"
    }
   ],
   "source": [
    "# Sorting the dataframe by year 2011.\n",
    "\n",
    "city_pop_2011 = city_pop_df[city_pop_df.Year == '2011']\n",
    "city_pop_2011.sort(columns = ('Population'), ascending = False).head(10)"
   ]
  },
  {
   "cell_type": "markdown",
   "metadata": {
    "collapsed": true
   },
   "source": [
    "####  3. 10 ethnic groups with the largest overall populations (sum of best/latest estimates over all countries)"
   ]
  },
  {
   "cell_type": "code",
   "execution_count": 13,
   "metadata": {
    "collapsed": false
   },
   "outputs": [],
   "source": [
    "# Create a list ethnic_groups and a list of 2011 populations by country.\n",
    "ethnic_groups = []\n",
    "pop_2011 = []\n",
    "\n",
    "\n",
    "for country in document.iter('country'):\n",
    "    for ethnicgroup in country.iter('ethnicgroup'):\n",
    "        ethnic_groups.append([country.find('name').text, ethnicgroup.attrib, ethnicgroup.text])\n",
    "    for pop in country.iterfind('population'):\n",
    "        if pop.attrib == {'year': '2011', 'measured': 'census'}:\n",
    "            pop_2011.append([country.find('name').text, int(pop.text)])\n",
    "        "
   ]
  },
  {
   "cell_type": "code",
   "execution_count": 14,
   "metadata": {
    "collapsed": false
   },
   "outputs": [],
   "source": [
    "# Create dataframes using the two lists above.\n",
    "\n",
    "ethnic_groups_df = pd.DataFrame(ethnic_groups, columns =('Country', 'Attrib', 'Group'))\n",
    "pop_2011_df = pd.DataFrame(pop_2011, columns=('Country', 'Tot_pop'))"
   ]
  },
  {
   "cell_type": "code",
   "execution_count": 15,
   "metadata": {
    "collapsed": false
   },
   "outputs": [
    {
     "data": {
      "text/html": [
       "<div>\n",
       "<table border=\"1\" class=\"dataframe\">\n",
       "  <thead>\n",
       "    <tr style=\"text-align: right;\">\n",
       "      <th></th>\n",
       "      <th>Country</th>\n",
       "      <th>Group</th>\n",
       "      <th>Percentage</th>\n",
       "    </tr>\n",
       "  </thead>\n",
       "  <tbody>\n",
       "    <tr>\n",
       "      <th>0</th>\n",
       "      <td>Albania</td>\n",
       "      <td>Albanian</td>\n",
       "      <td>0.950</td>\n",
       "    </tr>\n",
       "    <tr>\n",
       "      <th>1</th>\n",
       "      <td>Albania</td>\n",
       "      <td>Greek</td>\n",
       "      <td>0.030</td>\n",
       "    </tr>\n",
       "    <tr>\n",
       "      <th>2</th>\n",
       "      <td>Greece</td>\n",
       "      <td>Greek</td>\n",
       "      <td>0.930</td>\n",
       "    </tr>\n",
       "    <tr>\n",
       "      <th>3</th>\n",
       "      <td>Macedonia</td>\n",
       "      <td>Macedonian</td>\n",
       "      <td>0.642</td>\n",
       "    </tr>\n",
       "    <tr>\n",
       "      <th>4</th>\n",
       "      <td>Macedonia</td>\n",
       "      <td>Albanian</td>\n",
       "      <td>0.252</td>\n",
       "    </tr>\n",
       "    <tr>\n",
       "      <th>5</th>\n",
       "      <td>Macedonia</td>\n",
       "      <td>Turkish</td>\n",
       "      <td>0.039</td>\n",
       "    </tr>\n",
       "    <tr>\n",
       "      <th>6</th>\n",
       "      <td>Macedonia</td>\n",
       "      <td>Gypsy</td>\n",
       "      <td>0.027</td>\n",
       "    </tr>\n",
       "    <tr>\n",
       "      <th>7</th>\n",
       "      <td>Macedonia</td>\n",
       "      <td>Serb</td>\n",
       "      <td>0.018</td>\n",
       "    </tr>\n",
       "    <tr>\n",
       "      <th>8</th>\n",
       "      <td>Serbia</td>\n",
       "      <td>Serb</td>\n",
       "      <td>0.829</td>\n",
       "    </tr>\n",
       "    <tr>\n",
       "      <th>9</th>\n",
       "      <td>Serbia</td>\n",
       "      <td>Montenegrin</td>\n",
       "      <td>0.009</td>\n",
       "    </tr>\n",
       "  </tbody>\n",
       "</table>\n",
       "</div>"
      ],
      "text/plain": [
       "     Country        Group  Percentage\n",
       "0    Albania     Albanian       0.950\n",
       "1    Albania        Greek       0.030\n",
       "2     Greece        Greek       0.930\n",
       "3  Macedonia   Macedonian       0.642\n",
       "4  Macedonia     Albanian       0.252\n",
       "5  Macedonia      Turkish       0.039\n",
       "6  Macedonia        Gypsy       0.027\n",
       "7  Macedonia         Serb       0.018\n",
       "8     Serbia         Serb       0.829\n",
       "9     Serbia  Montenegrin       0.009"
      ]
     },
     "execution_count": 15,
     "metadata": {},
     "output_type": "execute_result"
    }
   ],
   "source": [
    "# Create a new column in ethnic_groups_df which has the percentage of the Group and drop the 'Attrib' column.\n",
    "\n",
    "ethnic_groups_df['Percentage'] = [float(ethnic_groups_df['Attrib'][i]['percentage'])/100 for i in range(len(ethnic_groups_df['Attrib']))]\n",
    "ethnic_groups_df.drop('Attrib', axis =1, inplace = True)\n",
    "ethnic_groups_df.head(10)"
   ]
  },
  {
   "cell_type": "code",
   "execution_count": 16,
   "metadata": {
    "collapsed": false
   },
   "outputs": [
    {
     "data": {
      "text/html": [
       "<div>\n",
       "<table border=\"1\" class=\"dataframe\">\n",
       "  <thead>\n",
       "    <tr style=\"text-align: right;\">\n",
       "      <th></th>\n",
       "      <th>Country</th>\n",
       "      <th>Group</th>\n",
       "      <th>Percentage</th>\n",
       "      <th>Tot_pop</th>\n",
       "    </tr>\n",
       "  </thead>\n",
       "  <tbody>\n",
       "    <tr>\n",
       "      <th>0</th>\n",
       "      <td>Albania</td>\n",
       "      <td>Albanian</td>\n",
       "      <td>0.950</td>\n",
       "      <td>2800138</td>\n",
       "    </tr>\n",
       "    <tr>\n",
       "      <th>1</th>\n",
       "      <td>Albania</td>\n",
       "      <td>Greek</td>\n",
       "      <td>0.030</td>\n",
       "      <td>2800138</td>\n",
       "    </tr>\n",
       "    <tr>\n",
       "      <th>2</th>\n",
       "      <td>Greece</td>\n",
       "      <td>Greek</td>\n",
       "      <td>0.930</td>\n",
       "      <td>10816286</td>\n",
       "    </tr>\n",
       "    <tr>\n",
       "      <th>3</th>\n",
       "      <td>Serbia</td>\n",
       "      <td>Serb</td>\n",
       "      <td>0.829</td>\n",
       "      <td>7120666</td>\n",
       "    </tr>\n",
       "    <tr>\n",
       "      <th>4</th>\n",
       "      <td>Serbia</td>\n",
       "      <td>Montenegrin</td>\n",
       "      <td>0.009</td>\n",
       "      <td>7120666</td>\n",
       "    </tr>\n",
       "  </tbody>\n",
       "</table>\n",
       "</div>"
      ],
      "text/plain": [
       "   Country        Group  Percentage   Tot_pop\n",
       "0  Albania     Albanian       0.950   2800138\n",
       "1  Albania        Greek       0.030   2800138\n",
       "2   Greece        Greek       0.930  10816286\n",
       "3   Serbia         Serb       0.829   7120666\n",
       "4   Serbia  Montenegrin       0.009   7120666"
      ]
     },
     "execution_count": 16,
     "metadata": {},
     "output_type": "execute_result"
    }
   ],
   "source": [
    "# Merge the two datasets on the 'Country' column.\n",
    "\n",
    "ethnic_groups_df = ethnic_groups_df.merge(pop_2011_df, how ='inner')\n",
    "ethnic_groups_df.head()"
   ]
  },
  {
   "cell_type": "code",
   "execution_count": 17,
   "metadata": {
    "collapsed": false
   },
   "outputs": [
    {
     "data": {
      "text/html": [
       "<div>\n",
       "<table border=\"1\" class=\"dataframe\">\n",
       "  <thead>\n",
       "    <tr style=\"text-align: right;\">\n",
       "      <th></th>\n",
       "      <th>Country</th>\n",
       "      <th>Group</th>\n",
       "      <th>Group_pop</th>\n",
       "    </tr>\n",
       "  </thead>\n",
       "  <tbody>\n",
       "    <tr>\n",
       "      <th>0</th>\n",
       "      <td>Albania</td>\n",
       "      <td>Albanian</td>\n",
       "      <td>2.660131e+06</td>\n",
       "    </tr>\n",
       "    <tr>\n",
       "      <th>1</th>\n",
       "      <td>Albania</td>\n",
       "      <td>Greek</td>\n",
       "      <td>8.400414e+04</td>\n",
       "    </tr>\n",
       "    <tr>\n",
       "      <th>2</th>\n",
       "      <td>Greece</td>\n",
       "      <td>Greek</td>\n",
       "      <td>1.005915e+07</td>\n",
       "    </tr>\n",
       "    <tr>\n",
       "      <th>3</th>\n",
       "      <td>Serbia</td>\n",
       "      <td>Serb</td>\n",
       "      <td>5.903032e+06</td>\n",
       "    </tr>\n",
       "    <tr>\n",
       "      <th>4</th>\n",
       "      <td>Serbia</td>\n",
       "      <td>Montenegrin</td>\n",
       "      <td>6.408599e+04</td>\n",
       "    </tr>\n",
       "  </tbody>\n",
       "</table>\n",
       "</div>"
      ],
      "text/plain": [
       "   Country        Group     Group_pop\n",
       "0  Albania     Albanian  2.660131e+06\n",
       "1  Albania        Greek  8.400414e+04\n",
       "2   Greece        Greek  1.005915e+07\n",
       "3   Serbia         Serb  5.903032e+06\n",
       "4   Serbia  Montenegrin  6.408599e+04"
      ]
     },
     "execution_count": 17,
     "metadata": {},
     "output_type": "execute_result"
    }
   ],
   "source": [
    "# Calculate the population of each group by country and modify teh dataframe.\n",
    "\n",
    "ethnic_groups_df[\"Group_pop\"] = ethnic_groups_df['Percentage']*ethnic_groups_df['Tot_pop']\n",
    "ethnic_groups_df.drop('Percentage', axis =1, inplace =True)\n",
    "ethnic_groups_df.drop('Tot_pop', axis =1, inplace =True)\n",
    "ethnic_groups_df.head()"
   ]
  },
  {
   "cell_type": "code",
   "execution_count": 18,
   "metadata": {
    "collapsed": false
   },
   "outputs": [
    {
     "name": "stderr",
     "output_type": "stream",
     "text": [
      "C:\\Users\\Siva Teja\\Anaconda3\\lib\\site-packages\\ipykernel\\__main__.py:2: FutureWarning: sort(columns=....) is deprecated, use sort_values(by=.....)\n",
      "  from ipykernel import kernelapp as app\n"
     ]
    },
    {
     "data": {
      "text/html": [
       "<div>\n",
       "<table border=\"1\" class=\"dataframe\">\n",
       "  <thead>\n",
       "    <tr style=\"text-align: right;\">\n",
       "      <th></th>\n",
       "      <th>Group_pop</th>\n",
       "    </tr>\n",
       "    <tr>\n",
       "      <th>Group</th>\n",
       "      <th></th>\n",
       "    </tr>\n",
       "  </thead>\n",
       "  <tbody>\n",
       "    <tr>\n",
       "      <th>Indo-Aryan</th>\n",
       "      <td>8.718156e+08</td>\n",
       "    </tr>\n",
       "    <tr>\n",
       "      <th>Dravidian</th>\n",
       "      <td>3.027137e+08</td>\n",
       "    </tr>\n",
       "    <tr>\n",
       "      <th>Bengali</th>\n",
       "      <td>1.467769e+08</td>\n",
       "    </tr>\n",
       "    <tr>\n",
       "      <th>German</th>\n",
       "      <td>7.427849e+07</td>\n",
       "    </tr>\n",
       "    <tr>\n",
       "      <th>English</th>\n",
       "      <td>5.282030e+07</td>\n",
       "    </tr>\n",
       "    <tr>\n",
       "      <th>Mediterranean Nordic</th>\n",
       "      <td>4.681592e+07</td>\n",
       "    </tr>\n",
       "    <tr>\n",
       "      <th>Persian</th>\n",
       "      <td>3.832633e+07</td>\n",
       "    </tr>\n",
       "    <tr>\n",
       "      <th>Polish</th>\n",
       "      <td>3.788108e+07</td>\n",
       "    </tr>\n",
       "    <tr>\n",
       "      <th>Mongol</th>\n",
       "      <td>3.632565e+07</td>\n",
       "    </tr>\n",
       "    <tr>\n",
       "      <th>European</th>\n",
       "      <td>2.856090e+07</td>\n",
       "    </tr>\n",
       "  </tbody>\n",
       "</table>\n",
       "</div>"
      ],
      "text/plain": [
       "                         Group_pop\n",
       "Group                             \n",
       "Indo-Aryan            8.718156e+08\n",
       "Dravidian             3.027137e+08\n",
       "Bengali               1.467769e+08\n",
       "German                7.427849e+07\n",
       "English               5.282030e+07\n",
       "Mediterranean Nordic  4.681592e+07\n",
       "Persian               3.832633e+07\n",
       "Polish                3.788108e+07\n",
       "Mongol                3.632565e+07\n",
       "European              2.856090e+07"
      ]
     },
     "execution_count": 18,
     "metadata": {},
     "output_type": "execute_result"
    }
   ],
   "source": [
    "# Group the dataframe by Group and sort.\n",
    "ethnic_groups_df.groupby(['Group']).sum().sort(columns = ('Group_pop'), ascending = False).head(10)"
   ]
  },
  {
   "cell_type": "markdown",
   "metadata": {},
   "source": [
    "####  4.name and country of a) longest river, b) largest lake and c) airport at highest elevation"
   ]
  },
  {
   "cell_type": "code",
   "execution_count": 19,
   "metadata": {
    "collapsed": false
   },
   "outputs": [],
   "source": [
    "# Create a list countries to store country name and attributes.\n",
    "countries = []\n",
    "for country in document.iter('country'):\n",
    "    countries.append([country.find('name').text,country.attrib])"
   ]
  },
  {
   "cell_type": "code",
   "execution_count": 20,
   "metadata": {
    "collapsed": false
   },
   "outputs": [
    {
     "data": {
      "text/html": [
       "<div>\n",
       "<table border=\"1\" class=\"dataframe\">\n",
       "  <thead>\n",
       "    <tr style=\"text-align: right;\">\n",
       "      <th></th>\n",
       "      <th>Country</th>\n",
       "      <th>Code</th>\n",
       "    </tr>\n",
       "  </thead>\n",
       "  <tbody>\n",
       "    <tr>\n",
       "      <th>0</th>\n",
       "      <td>Albania</td>\n",
       "      <td>AL</td>\n",
       "    </tr>\n",
       "    <tr>\n",
       "      <th>1</th>\n",
       "      <td>Greece</td>\n",
       "      <td>GR</td>\n",
       "    </tr>\n",
       "    <tr>\n",
       "      <th>2</th>\n",
       "      <td>Macedonia</td>\n",
       "      <td>MK</td>\n",
       "    </tr>\n",
       "    <tr>\n",
       "      <th>3</th>\n",
       "      <td>Serbia</td>\n",
       "      <td>SRB</td>\n",
       "    </tr>\n",
       "    <tr>\n",
       "      <th>4</th>\n",
       "      <td>Montenegro</td>\n",
       "      <td>MNE</td>\n",
       "    </tr>\n",
       "  </tbody>\n",
       "</table>\n",
       "</div>"
      ],
      "text/plain": [
       "      Country Code\n",
       "0     Albania   AL\n",
       "1      Greece   GR\n",
       "2   Macedonia   MK\n",
       "3      Serbia  SRB\n",
       "4  Montenegro  MNE"
      ]
     },
     "execution_count": 20,
     "metadata": {},
     "output_type": "execute_result"
    }
   ],
   "source": [
    "#Create a dataframe to hold country name and code.\n",
    "countries_df = pd.DataFrame(countries, columns = ('Country', 'Attrib'))\n",
    "countries_df['Code'] = [countries_df.Attrib[i]['car_code'] for i in range(len(countries_df.Attrib))]\n",
    "countries_df.drop('Attrib', axis =1, inplace = True)\n",
    "countries_df.head()"
   ]
  },
  {
   "cell_type": "markdown",
   "metadata": {},
   "source": [
    "####  Longest River"
   ]
  },
  {
   "cell_type": "code",
   "execution_count": 21,
   "metadata": {
    "collapsed": true
   },
   "outputs": [],
   "source": [
    "# Create a list to hold river_name, river_attributes and the river_length.\n",
    "rivers = []\n",
    "for river in document.iter('river'):\n",
    "    for length in river.iter('length'):\n",
    "        rivers.append([river.find('name').text, river.attrib, float(length.text)])"
   ]
  },
  {
   "cell_type": "code",
   "execution_count": 22,
   "metadata": {
    "collapsed": false
   },
   "outputs": [
    {
     "data": {
      "text/html": [
       "<div>\n",
       "<table border=\"1\" class=\"dataframe\">\n",
       "  <thead>\n",
       "    <tr style=\"text-align: right;\">\n",
       "      <th></th>\n",
       "      <th>River</th>\n",
       "      <th>Length</th>\n",
       "      <th>Code</th>\n",
       "    </tr>\n",
       "  </thead>\n",
       "  <tbody>\n",
       "    <tr>\n",
       "      <th>0</th>\n",
       "      <td>Thjorsa</td>\n",
       "      <td>230.0</td>\n",
       "      <td>IS</td>\n",
       "    </tr>\n",
       "    <tr>\n",
       "      <th>1</th>\n",
       "      <td>Joekulsa a Fjoellum</td>\n",
       "      <td>206.0</td>\n",
       "      <td>IS</td>\n",
       "    </tr>\n",
       "    <tr>\n",
       "      <th>2</th>\n",
       "      <td>Glomma</td>\n",
       "      <td>604.0</td>\n",
       "      <td>N</td>\n",
       "    </tr>\n",
       "    <tr>\n",
       "      <th>3</th>\n",
       "      <td>Lagen</td>\n",
       "      <td>322.0</td>\n",
       "      <td>N</td>\n",
       "    </tr>\n",
       "    <tr>\n",
       "      <th>4</th>\n",
       "      <td>Goetaaelv</td>\n",
       "      <td>93.0</td>\n",
       "      <td>S</td>\n",
       "    </tr>\n",
       "  </tbody>\n",
       "</table>\n",
       "</div>"
      ],
      "text/plain": [
       "                 River  Length Code\n",
       "0              Thjorsa   230.0   IS\n",
       "1  Joekulsa a Fjoellum   206.0   IS\n",
       "2               Glomma   604.0    N\n",
       "3                Lagen   322.0    N\n",
       "4            Goetaaelv    93.0    S"
      ]
     },
     "execution_count": 22,
     "metadata": {},
     "output_type": "execute_result"
    }
   ],
   "source": [
    "# Create a dataframe with rivers as data and modify it.\n",
    "rivers_df = pd.DataFrame(rivers, columns=('River', 'Attrib', 'Length'))\n",
    "rivers_df[\"Code\"] = [rivers_df.Attrib[i]['country'] for i in range(len(rivers_df.Attrib))]\n",
    "rivers_df.drop('Attrib',axis = 1, inplace = True )\n",
    "rivers_df.head()"
   ]
  },
  {
   "cell_type": "code",
   "execution_count": 23,
   "metadata": {
    "collapsed": false
   },
   "outputs": [
    {
     "data": {
      "text/html": [
       "<div>\n",
       "<table border=\"1\" class=\"dataframe\">\n",
       "  <thead>\n",
       "    <tr style=\"text-align: right;\">\n",
       "      <th></th>\n",
       "      <th>River</th>\n",
       "      <th>Length</th>\n",
       "      <th>Code</th>\n",
       "      <th>Country</th>\n",
       "    </tr>\n",
       "  </thead>\n",
       "  <tbody>\n",
       "    <tr>\n",
       "      <th>0</th>\n",
       "      <td>Thjorsa</td>\n",
       "      <td>230.0</td>\n",
       "      <td>IS</td>\n",
       "      <td>Iceland</td>\n",
       "    </tr>\n",
       "    <tr>\n",
       "      <th>1</th>\n",
       "      <td>Joekulsa a Fjoellum</td>\n",
       "      <td>206.0</td>\n",
       "      <td>IS</td>\n",
       "      <td>Iceland</td>\n",
       "    </tr>\n",
       "    <tr>\n",
       "      <th>2</th>\n",
       "      <td>Glomma</td>\n",
       "      <td>604.0</td>\n",
       "      <td>N</td>\n",
       "      <td>Norway</td>\n",
       "    </tr>\n",
       "    <tr>\n",
       "      <th>3</th>\n",
       "      <td>Lagen</td>\n",
       "      <td>322.0</td>\n",
       "      <td>N</td>\n",
       "      <td>Norway</td>\n",
       "    </tr>\n",
       "    <tr>\n",
       "      <th>4</th>\n",
       "      <td>Goetaaelv</td>\n",
       "      <td>93.0</td>\n",
       "      <td>S</td>\n",
       "      <td>Sweden</td>\n",
       "    </tr>\n",
       "  </tbody>\n",
       "</table>\n",
       "</div>"
      ],
      "text/plain": [
       "                 River  Length Code  Country\n",
       "0              Thjorsa   230.0   IS  Iceland\n",
       "1  Joekulsa a Fjoellum   206.0   IS  Iceland\n",
       "2               Glomma   604.0    N   Norway\n",
       "3                Lagen   322.0    N   Norway\n",
       "4            Goetaaelv    93.0    S   Sweden"
      ]
     },
     "execution_count": 23,
     "metadata": {},
     "output_type": "execute_result"
    }
   ],
   "source": [
    "rivers_df = rivers_df.merge(countries_df, how='inner')\n",
    "rivers_df.head()"
   ]
  },
  {
   "cell_type": "code",
   "execution_count": 24,
   "metadata": {
    "collapsed": false
   },
   "outputs": [
    {
     "data": {
      "text/html": [
       "<div>\n",
       "<table border=\"1\" class=\"dataframe\">\n",
       "  <thead>\n",
       "    <tr style=\"text-align: right;\">\n",
       "      <th></th>\n",
       "      <th>River</th>\n",
       "      <th>Length</th>\n",
       "      <th>Code</th>\n",
       "      <th>Country</th>\n",
       "    </tr>\n",
       "  </thead>\n",
       "  <tbody>\n",
       "    <tr>\n",
       "      <th>75</th>\n",
       "      <td>Jangtse</td>\n",
       "      <td>6380.0</td>\n",
       "      <td>CN</td>\n",
       "      <td>China</td>\n",
       "    </tr>\n",
       "  </tbody>\n",
       "</table>\n",
       "</div>"
      ],
      "text/plain": [
       "      River  Length Code Country\n",
       "75  Jangtse  6380.0   CN   China"
      ]
     },
     "execution_count": 24,
     "metadata": {},
     "output_type": "execute_result"
    }
   ],
   "source": [
    "# Longest river\n",
    "rivers_df.loc[rivers_df.Length == rivers_df.Length.max()]"
   ]
  },
  {
   "cell_type": "markdown",
   "metadata": {},
   "source": [
    "####  Largest Lake"
   ]
  },
  {
   "cell_type": "code",
   "execution_count": 25,
   "metadata": {
    "collapsed": false
   },
   "outputs": [],
   "source": [
    "# Create a list to hold lake_name, lake_attributes and the lake_area.\n",
    "lakes = []\n",
    "for lake in document.iter('lake'):\n",
    "    for area in lake.iter('area'):\n",
    "        lakes.append([lake.find('name').text, lake.attrib, float(area.text)])"
   ]
  },
  {
   "cell_type": "code",
   "execution_count": 26,
   "metadata": {
    "collapsed": false
   },
   "outputs": [
    {
     "data": {
      "text/html": [
       "<div>\n",
       "<table border=\"1\" class=\"dataframe\">\n",
       "  <thead>\n",
       "    <tr style=\"text-align: right;\">\n",
       "      <th></th>\n",
       "      <th>Lake</th>\n",
       "      <th>Area</th>\n",
       "      <th>Code</th>\n",
       "    </tr>\n",
       "  </thead>\n",
       "  <tbody>\n",
       "    <tr>\n",
       "      <th>0</th>\n",
       "      <td>Inari</td>\n",
       "      <td>1040.0</td>\n",
       "      <td>SF</td>\n",
       "    </tr>\n",
       "    <tr>\n",
       "      <th>1</th>\n",
       "      <td>Oulujaervi</td>\n",
       "      <td>928.0</td>\n",
       "      <td>SF</td>\n",
       "    </tr>\n",
       "    <tr>\n",
       "      <th>2</th>\n",
       "      <td>Kallavesi</td>\n",
       "      <td>472.0</td>\n",
       "      <td>SF</td>\n",
       "    </tr>\n",
       "    <tr>\n",
       "      <th>3</th>\n",
       "      <td>Saimaa</td>\n",
       "      <td>4370.0</td>\n",
       "      <td>SF</td>\n",
       "    </tr>\n",
       "    <tr>\n",
       "      <th>4</th>\n",
       "      <td>Paeijaenne</td>\n",
       "      <td>1118.0</td>\n",
       "      <td>SF</td>\n",
       "    </tr>\n",
       "  </tbody>\n",
       "</table>\n",
       "</div>"
      ],
      "text/plain": [
       "         Lake    Area Code\n",
       "0       Inari  1040.0   SF\n",
       "1  Oulujaervi   928.0   SF\n",
       "2   Kallavesi   472.0   SF\n",
       "3      Saimaa  4370.0   SF\n",
       "4  Paeijaenne  1118.0   SF"
      ]
     },
     "execution_count": 26,
     "metadata": {},
     "output_type": "execute_result"
    }
   ],
   "source": [
    "# Create a dataframe with lakes as data and modify it.\n",
    "lakes_df = pd.DataFrame(lakes,columns=('Lake','Attrib', 'Area' ))\n",
    "lakes_df[\"Code\"] = [lakes_df.Attrib[i]['country'] for i in range(len(lakes_df.Attrib))]\n",
    "lakes_df.drop('Attrib',axis = 1, inplace = True )\n",
    "lakes_df.head()"
   ]
  },
  {
   "cell_type": "code",
   "execution_count": 27,
   "metadata": {
    "collapsed": false
   },
   "outputs": [
    {
     "data": {
      "text/html": [
       "<div>\n",
       "<table border=\"1\" class=\"dataframe\">\n",
       "  <thead>\n",
       "    <tr style=\"text-align: right;\">\n",
       "      <th></th>\n",
       "      <th>Lake</th>\n",
       "      <th>Area</th>\n",
       "      <th>Code</th>\n",
       "      <th>Country</th>\n",
       "    </tr>\n",
       "  </thead>\n",
       "  <tbody>\n",
       "    <tr>\n",
       "      <th>0</th>\n",
       "      <td>Inari</td>\n",
       "      <td>1040.0</td>\n",
       "      <td>SF</td>\n",
       "      <td>Finland</td>\n",
       "    </tr>\n",
       "    <tr>\n",
       "      <th>1</th>\n",
       "      <td>Oulujaervi</td>\n",
       "      <td>928.0</td>\n",
       "      <td>SF</td>\n",
       "      <td>Finland</td>\n",
       "    </tr>\n",
       "    <tr>\n",
       "      <th>2</th>\n",
       "      <td>Kallavesi</td>\n",
       "      <td>472.0</td>\n",
       "      <td>SF</td>\n",
       "      <td>Finland</td>\n",
       "    </tr>\n",
       "    <tr>\n",
       "      <th>3</th>\n",
       "      <td>Saimaa</td>\n",
       "      <td>4370.0</td>\n",
       "      <td>SF</td>\n",
       "      <td>Finland</td>\n",
       "    </tr>\n",
       "    <tr>\n",
       "      <th>4</th>\n",
       "      <td>Paeijaenne</td>\n",
       "      <td>1118.0</td>\n",
       "      <td>SF</td>\n",
       "      <td>Finland</td>\n",
       "    </tr>\n",
       "  </tbody>\n",
       "</table>\n",
       "</div>"
      ],
      "text/plain": [
       "         Lake    Area Code  Country\n",
       "0       Inari  1040.0   SF  Finland\n",
       "1  Oulujaervi   928.0   SF  Finland\n",
       "2   Kallavesi   472.0   SF  Finland\n",
       "3      Saimaa  4370.0   SF  Finland\n",
       "4  Paeijaenne  1118.0   SF  Finland"
      ]
     },
     "execution_count": 27,
     "metadata": {},
     "output_type": "execute_result"
    }
   ],
   "source": [
    "lakes_df = lakes_df.merge(countries_df, how='inner')\n",
    "lakes_df.head()"
   ]
  },
  {
   "cell_type": "code",
   "execution_count": 28,
   "metadata": {
    "collapsed": false
   },
   "outputs": [
    {
     "data": {
      "text/html": [
       "<div>\n",
       "<table border=\"1\" class=\"dataframe\">\n",
       "  <thead>\n",
       "    <tr style=\"text-align: right;\">\n",
       "      <th></th>\n",
       "      <th>Lake</th>\n",
       "      <th>Area</th>\n",
       "      <th>Code</th>\n",
       "      <th>Country</th>\n",
       "    </tr>\n",
       "  </thead>\n",
       "  <tbody>\n",
       "    <tr>\n",
       "      <th>75</th>\n",
       "      <td>Lake Michigan</td>\n",
       "      <td>57800.0</td>\n",
       "      <td>USA</td>\n",
       "      <td>United States</td>\n",
       "    </tr>\n",
       "  </tbody>\n",
       "</table>\n",
       "</div>"
      ],
      "text/plain": [
       "             Lake     Area Code        Country\n",
       "75  Lake Michigan  57800.0  USA  United States"
      ]
     },
     "execution_count": 28,
     "metadata": {},
     "output_type": "execute_result"
    }
   ],
   "source": [
    "# Largest Lake.\n",
    "lakes_df.loc[lakes_df.Area== lakes_df.Area.max()]"
   ]
  },
  {
   "cell_type": "markdown",
   "metadata": {},
   "source": [
    "####  Airport at highest eleveation."
   ]
  },
  {
   "cell_type": "code",
   "execution_count": 31,
   "metadata": {
    "collapsed": true
   },
   "outputs": [],
   "source": [
    "import numpy as np"
   ]
  },
  {
   "cell_type": "code",
   "execution_count": 33,
   "metadata": {
    "collapsed": false
   },
   "outputs": [],
   "source": [
    "# Create a list to hold airport: name, attributes and elevation.\n",
    "airports = []\n",
    "\n",
    "for airport in document.iter('airport'):\n",
    "    for elevation in airport.iter('elevation'):\n",
    "        try:\n",
    "            airports.append([airport.find('name').text, airport.attrib,float(elevation.text)])\n",
    "        except TypeError:\n",
    "            airports.append([airport.find('name').text, airport.attrib, np.nan])"
   ]
  },
  {
   "cell_type": "code",
   "execution_count": 38,
   "metadata": {
    "collapsed": false
   },
   "outputs": [
    {
     "data": {
      "text/html": [
       "<div>\n",
       "<table border=\"1\" class=\"dataframe\">\n",
       "  <thead>\n",
       "    <tr style=\"text-align: right;\">\n",
       "      <th></th>\n",
       "      <th>Airport</th>\n",
       "      <th>Elevation</th>\n",
       "      <th>Code</th>\n",
       "    </tr>\n",
       "  </thead>\n",
       "  <tbody>\n",
       "    <tr>\n",
       "      <th>0</th>\n",
       "      <td>Herat</td>\n",
       "      <td>977.0</td>\n",
       "      <td>AFG</td>\n",
       "    </tr>\n",
       "    <tr>\n",
       "      <th>1</th>\n",
       "      <td>Kabul Intl</td>\n",
       "      <td>1792.0</td>\n",
       "      <td>AFG</td>\n",
       "    </tr>\n",
       "    <tr>\n",
       "      <th>2</th>\n",
       "      <td>Tirana Rinas</td>\n",
       "      <td>38.0</td>\n",
       "      <td>AL</td>\n",
       "    </tr>\n",
       "    <tr>\n",
       "      <th>3</th>\n",
       "      <td>Cheikh Larbi Tebessi</td>\n",
       "      <td>811.0</td>\n",
       "      <td>DZ</td>\n",
       "    </tr>\n",
       "    <tr>\n",
       "      <th>4</th>\n",
       "      <td>Batna Airport</td>\n",
       "      <td>822.0</td>\n",
       "      <td>DZ</td>\n",
       "    </tr>\n",
       "  </tbody>\n",
       "</table>\n",
       "</div>"
      ],
      "text/plain": [
       "                Airport  Elevation Code\n",
       "0                 Herat      977.0  AFG\n",
       "1            Kabul Intl     1792.0  AFG\n",
       "2          Tirana Rinas       38.0   AL\n",
       "3  Cheikh Larbi Tebessi      811.0   DZ\n",
       "4         Batna Airport      822.0   DZ"
      ]
     },
     "execution_count": 38,
     "metadata": {},
     "output_type": "execute_result"
    }
   ],
   "source": [
    "# Create a dataframe with airports as data and modify it.\n",
    "airports_df = pd.DataFrame(airports, columns = ('Airport', 'Attrib', 'Elevation'))\n",
    "airports_df[\"Code\"] = [airports_df.Attrib[i]['country'] for i in range(len(airports_df.Attrib))]\n",
    "airports_df.drop('Attrib', axis = 1, inplace = True)\n",
    "airports_df.head()"
   ]
  },
  {
   "cell_type": "code",
   "execution_count": 39,
   "metadata": {
    "collapsed": false
   },
   "outputs": [
    {
     "data": {
      "text/html": [
       "<div>\n",
       "<table border=\"1\" class=\"dataframe\">\n",
       "  <thead>\n",
       "    <tr style=\"text-align: right;\">\n",
       "      <th></th>\n",
       "      <th>Airport</th>\n",
       "      <th>Elevation</th>\n",
       "      <th>Code</th>\n",
       "      <th>Country</th>\n",
       "    </tr>\n",
       "  </thead>\n",
       "  <tbody>\n",
       "    <tr>\n",
       "      <th>0</th>\n",
       "      <td>Herat</td>\n",
       "      <td>977.0</td>\n",
       "      <td>AFG</td>\n",
       "      <td>Afghanistan</td>\n",
       "    </tr>\n",
       "    <tr>\n",
       "      <th>1</th>\n",
       "      <td>Kabul Intl</td>\n",
       "      <td>1792.0</td>\n",
       "      <td>AFG</td>\n",
       "      <td>Afghanistan</td>\n",
       "    </tr>\n",
       "    <tr>\n",
       "      <th>2</th>\n",
       "      <td>Tirana Rinas</td>\n",
       "      <td>38.0</td>\n",
       "      <td>AL</td>\n",
       "      <td>Albania</td>\n",
       "    </tr>\n",
       "    <tr>\n",
       "      <th>3</th>\n",
       "      <td>Cheikh Larbi Tebessi</td>\n",
       "      <td>811.0</td>\n",
       "      <td>DZ</td>\n",
       "      <td>Algeria</td>\n",
       "    </tr>\n",
       "    <tr>\n",
       "      <th>4</th>\n",
       "      <td>Batna Airport</td>\n",
       "      <td>822.0</td>\n",
       "      <td>DZ</td>\n",
       "      <td>Algeria</td>\n",
       "    </tr>\n",
       "  </tbody>\n",
       "</table>\n",
       "</div>"
      ],
      "text/plain": [
       "                Airport  Elevation Code      Country\n",
       "0                 Herat      977.0  AFG  Afghanistan\n",
       "1            Kabul Intl     1792.0  AFG  Afghanistan\n",
       "2          Tirana Rinas       38.0   AL      Albania\n",
       "3  Cheikh Larbi Tebessi      811.0   DZ      Algeria\n",
       "4         Batna Airport      822.0   DZ      Algeria"
      ]
     },
     "execution_count": 39,
     "metadata": {},
     "output_type": "execute_result"
    }
   ],
   "source": [
    "# Merge with countries_Df\n",
    "airports_df = airports_df.merge(countries_df, how='inner')\n",
    "airports_df.head()"
   ]
  },
  {
   "cell_type": "code",
   "execution_count": 41,
   "metadata": {
    "collapsed": false
   },
   "outputs": [
    {
     "data": {
      "text/html": [
       "<div>\n",
       "<table border=\"1\" class=\"dataframe\">\n",
       "  <thead>\n",
       "    <tr style=\"text-align: right;\">\n",
       "      <th></th>\n",
       "      <th>Airport</th>\n",
       "      <th>Elevation</th>\n",
       "      <th>Code</th>\n",
       "      <th>Country</th>\n",
       "    </tr>\n",
       "  </thead>\n",
       "  <tbody>\n",
       "    <tr>\n",
       "      <th>80</th>\n",
       "      <td>El Alto Intl</td>\n",
       "      <td>4063.0</td>\n",
       "      <td>BOL</td>\n",
       "      <td>Bolivia</td>\n",
       "    </tr>\n",
       "  </tbody>\n",
       "</table>\n",
       "</div>"
      ],
      "text/plain": [
       "         Airport  Elevation Code  Country\n",
       "80  El Alto Intl     4063.0  BOL  Bolivia"
      ]
     },
     "execution_count": 41,
     "metadata": {},
     "output_type": "execute_result"
    }
   ],
   "source": [
    "# Airport at highest elevation\n",
    "airports_df.loc[airports_df.Elevation == airports_df.Elevation.max()]"
   ]
  }
 ],
 "metadata": {
  "kernelspec": {
   "display_name": "Python 3",
   "language": "python",
   "name": "python3"
  },
  "language_info": {
   "codemirror_mode": {
    "name": "ipython",
    "version": 3
   },
   "file_extension": ".py",
   "mimetype": "text/x-python",
   "name": "python",
   "nbconvert_exporter": "python",
   "pygments_lexer": "ipython3",
   "version": "3.6.0"
  }
 },
 "nbformat": 4,
 "nbformat_minor": 0
}
